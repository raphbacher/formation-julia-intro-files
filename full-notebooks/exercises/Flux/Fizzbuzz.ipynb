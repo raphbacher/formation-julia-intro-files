{
 "cells": [
  {
   "cell_type": "markdown",
   "metadata": {},
   "source": [
    "# Solve the Fizzbuzz problem with Flux\n",
    "Inspired by \"Fizz Buzz in Tensorflow\" blog by Joel Grus\n",
    "http://joelgrus.com/2016/05/23/fizz-buzz-in-tensorflow/\n",
    "\n",
    "## Loading libs \n",
    "Use Flux and Test\n",
    "If you don't have Flux install it (Test is included in the standard library)\n"
   ]
  },
  {
   "cell_type": "code",
   "execution_count": 1,
   "metadata": {},
   "outputs": [
    {
     "name": "stdout",
     "output_type": "stream",
     "text": [
      "\u001b[32m\u001b[1m  Updating\u001b[22m\u001b[39m registry at `~/.julia/registries/General`\n",
      "\u001b[32m\u001b[1m  Updating\u001b[22m\u001b[39m git-repo `https://github.com/JuliaRegistries/General.git`\n",
      "\u001b[2K\u001b[?25h[1mFetching:\u001b[22m\u001b[39m [========================================>]  100.0 %.0 %\u001b[32m\u001b[1m Resolving\u001b[22m\u001b[39m package versions...\n",
      "\u001b[32m\u001b[1m  Updating\u001b[22m\u001b[39m `~/.julia/environments/v1.1/Project.toml`\n",
      "\u001b[90m [no changes]\u001b[39m\n",
      "\u001b[32m\u001b[1m  Updating\u001b[22m\u001b[39m `~/.julia/environments/v1.1/Manifest.toml`\n",
      "\u001b[90m [no changes]\u001b[39m\n"
     ]
    }
   ],
   "source": [
    "\n",
    "import Pkg; Pkg.add(\"Flux\")\n",
    "using Flux: Chain, Dense, params, crossentropy, onehotbatch,\n",
    "            ADAM, train!, softmax\n",
    "using Test\n"
   ]
  },
  {
   "cell_type": "markdown",
   "metadata": {},
   "source": [
    "## Data preparation\n",
    "Create a `fizzbuzz` function that takes an `Int` `x` and return `fizzbuzz` if `x` is divisible by 3 and 5, `fizz` if `x` divisible by 3, `buzz` if `x` divisible by 5, and return `else` in other cases"
   ]
  },
  {
   "cell_type": "code",
   "execution_count": 2,
   "metadata": {},
   "outputs": [
    {
     "data": {
      "text/plain": [
       "fizzbuzz (generic function with 1 method)"
      ]
     },
     "execution_count": 2,
     "metadata": {},
     "output_type": "execute_result"
    }
   ],
   "source": [
    "# Data preparation\n",
    "function fizzbuzz(x::Int)\n",
    "    is_divisible_by_three = x % 3 == 0\n",
    "    is_divisible_by_five = x % 5 == 0\n",
    "\n",
    "    if is_divisible_by_three & is_divisible_by_five\n",
    "        return \"fizzbuzz\"\n",
    "    elseif is_divisible_by_three\n",
    "        return \"fizz\"\n",
    "    elseif is_divisible_by_five\n",
    "        return \"buzz\"\n",
    "    else\n",
    "        return \"else\"\n",
    "    end\n",
    "end"
   ]
  },
  {
   "cell_type": "markdown",
   "metadata": {},
   "source": [
    "## Create the dataset\n",
    "First create a list LABELS that stores our different targets (\"fizz\", \"buzz\", \"fizzbuzz\", \"else\")\n",
    "Then generate a vector `raw_x` of the first 100 integers and apply `fizzbuzz` to get the outputs in `raw_y`"
   ]
  },
  {
   "cell_type": "code",
   "execution_count": 3,
   "metadata": {},
   "outputs": [],
   "source": [
    "const LABELS = [\"fizz\", \"buzz\", \"fizzbuzz\", \"else\"];\n",
    "\n",
    "@test fizzbuzz.([3, 5, 15, 98]) == LABELS\n",
    "\n",
    "raw_x = 1:100;\n",
    "raw_y = fizzbuzz.(raw_x);"
   ]
  },
  {
   "cell_type": "markdown",
   "metadata": {},
   "source": [
    "## Feature engineering\n",
    "Define a function `features(x)` that takes an int and return the list (as floats) of modulo by 3, 5 and 15\n"
   ]
  },
  {
   "cell_type": "code",
   "execution_count": 4,
   "metadata": {},
   "outputs": [
    {
     "data": {
      "text/plain": [
       "features (generic function with 1 method)"
      ]
     },
     "execution_count": 4,
     "metadata": {},
     "output_type": "execute_result"
    }
   ],
   "source": [
    "features(x) = float.([x % 3, x % 5, x % 15])"
   ]
  },
  {
   "cell_type": "markdown",
   "metadata": {},
   "source": [
    "Try to apply it to our vector raw_x and find a way to get a 2d-array "
   ]
  },
  {
   "cell_type": "code",
   "execution_count": 5,
   "metadata": {},
   "outputs": [
    {
     "data": {
      "text/plain": [
       "features (generic function with 2 methods)"
      ]
     },
     "execution_count": 5,
     "metadata": {},
     "output_type": "execute_result"
    }
   ],
   "source": [
    "# Feature engineering\n",
    "features(x::AbstractArray) = hcat(features.(x)...)\n"
   ]
  },
  {
   "cell_type": "markdown",
   "metadata": {},
   "source": [
    "Extract features from `raw_x` to `X `.\n",
    "Build the output `y` from `raw_y` with `onehotbatch`"
   ]
  },
  {
   "cell_type": "code",
   "execution_count": 6,
   "metadata": {},
   "outputs": [],
   "source": [
    "X = features(raw_x);\n",
    "y = onehotbatch(raw_y, LABELS);"
   ]
  },
  {
   "cell_type": "markdown",
   "metadata": {},
   "source": [
    "## Create the model\n",
    "We will combine (with `Chain`) two dense neural layer (`Dense`) and use the `softmax` function.\n",
    "Our first layer has the three modulo as input and has 10 neurons. The second layer takes these 10 neurons and return the probabilities for the 4 cases (buzz, fizz, fizzbuzz, else)\n",
    "\n",
    "We will use the crossentry as a loss function and `ADAM` as optimizer."
   ]
  },
  {
   "cell_type": "code",
   "execution_count": 7,
   "metadata": {},
   "outputs": [
    {
     "data": {
      "text/plain": [
       "ADAM(0.001, (0.9, 0.999), IdDict{Any,Any}())"
      ]
     },
     "execution_count": 7,
     "metadata": {},
     "output_type": "execute_result"
    }
   ],
   "source": [
    "# Model\n",
    "m = Chain(Dense(3, 10), Dense(10, 4), softmax)\n",
    "loss(x, y) = crossentropy(m(X), y)\n",
    "opt = ADAM()"
   ]
  },
  {
   "cell_type": "markdown",
   "metadata": {},
   "source": [
    "## Main function\n",
    "Create a function `deepbuzz` that takes a number `x`, applies the model `m` on the features of `x` and return the most probable label."
   ]
  },
  {
   "cell_type": "code",
   "execution_count": 8,
   "metadata": {},
   "outputs": [
    {
     "data": {
      "text/plain": [
       "deepbuzz (generic function with 1 method)"
      ]
     },
     "execution_count": 8,
     "metadata": {},
     "output_type": "execute_result"
    }
   ],
   "source": [
    "# Helpers\n",
    "deepbuzz(x) = (a = argmax(m(features(x))); a == 4 ? x : LABELS[a])"
   ]
  },
  {
   "cell_type": "markdown",
   "metadata": {},
   "source": [
    "## Monitor function \n",
    "\n",
    "Create a function `monitor(e)` that takes an iteration number, print the loss and and the current value of `deepbuzz` for some inputs."
   ]
  },
  {
   "cell_type": "code",
   "execution_count": 9,
   "metadata": {},
   "outputs": [
    {
     "data": {
      "text/plain": [
       "monitor (generic function with 1 method)"
      ]
     },
     "execution_count": 9,
     "metadata": {},
     "output_type": "execute_result"
    }
   ],
   "source": [
    "function monitor(e)\n",
    "    print(\"epoch $(lpad(e, 4)): loss = $(round(loss(X,y).data; digits=4)) | \")\n",
    "    @show deepbuzz.([3, 5, 15, 98])\n",
    "end"
   ]
  },
  {
   "cell_type": "markdown",
   "metadata": {},
   "source": [
    "## Train\n",
    "We are now ready to train our model. \n",
    "Try for example 1000 runs and monitor every 50 iterations.\n",
    "You will need the `train!` function"
   ]
  },
  {
   "cell_type": "code",
   "execution_count": 10,
   "metadata": {},
   "outputs": [
    {
     "name": "stdout",
     "output_type": "stream",
     "text": [
      "epoch    0: loss = 2.6849 | deepbuzz.([3, 5, 15, 98]) = Any[\"fizz\", \"fizz\", 15, \"fizz\"]\n",
      "epoch   50: loss = 1.6216 | deepbuzz.([3, 5, 15, 98]) = Any[3, 5, \"buzz\", 98]\n",
      "epoch  100: loss = 1.0701 | deepbuzz.([3, 5, 15, 98]) = Any[3, 5, \"buzz\", 98]\n",
      "epoch  150: loss = 0.8143 | deepbuzz.([3, 5, 15, 98]) = Any[3, 5, \"buzz\", 98]\n",
      "epoch  200: loss = 0.6899 | deepbuzz.([3, 5, 15, 98]) = Any[\"fizz\", 5, \"buzz\", 98]\n",
      "epoch  250: loss = 0.5955 | deepbuzz.([3, 5, 15, 98]) = Any[\"fizz\", 5, \"buzz\", 98]\n",
      "epoch  300: loss = 0.5189 | deepbuzz.([3, 5, 15, 98]) = Any[\"fizz\", 5, \"buzz\", 98]\n",
      "epoch  350: loss = 0.4551 | deepbuzz.([3, 5, 15, 98]) = Any[\"fizz\", 5, \"buzz\", 98]\n",
      "epoch  400: loss = 0.4012 | deepbuzz.([3, 5, 15, 98]) = Any[\"fizz\", 5, \"buzz\", 98]\n",
      "epoch  450: loss = 0.3552 | deepbuzz.([3, 5, 15, 98]) = Any[\"fizz\", 5, \"fizzbuzz\", 98]\n",
      "epoch  500: loss = 0.3155 | deepbuzz.([3, 5, 15, 98]) = Any[\"fizz\", 5, \"fizzbuzz\", 98]\n",
      "epoch  550: loss = 0.2811 | deepbuzz.([3, 5, 15, 98]) = Any[\"fizz\", \"buzz\", \"fizzbuzz\", 98]\n",
      "epoch  600: loss = 0.2511 | deepbuzz.([3, 5, 15, 98]) = Any[\"fizz\", \"buzz\", \"fizzbuzz\", 98]\n",
      "epoch  650: loss = 0.2248 | deepbuzz.([3, 5, 15, 98]) = Any[\"fizz\", \"buzz\", \"fizzbuzz\", 98]\n",
      "epoch  700: loss = 0.2016 | deepbuzz.([3, 5, 15, 98]) = Any[\"fizz\", \"buzz\", \"fizzbuzz\", 98]\n",
      "epoch  750: loss = 0.1812 | deepbuzz.([3, 5, 15, 98]) = Any[\"fizz\", \"buzz\", \"fizzbuzz\", 98]\n",
      "epoch  800: loss = 0.1632 | deepbuzz.([3, 5, 15, 98]) = Any[\"fizz\", \"buzz\", \"fizzbuzz\", 98]\n",
      "epoch  850: loss = 0.1473 | deepbuzz.([3, 5, 15, 98]) = Any[\"fizz\", \"buzz\", \"fizzbuzz\", 98]\n",
      "epoch  900: loss = 0.1331 | deepbuzz.([3, 5, 15, 98]) = Any[\"fizz\", \"buzz\", \"fizzbuzz\", 98]\n",
      "epoch  950: loss = 0.1206 | deepbuzz.([3, 5, 15, 98]) = Any[\"fizz\", \"buzz\", \"fizzbuzz\", 98]\n",
      "epoch 1000: loss = 0.1095 | deepbuzz.([3, 5, 15, 98]) = Any[\"fizz\", \"buzz\", \"fizzbuzz\", 98]\n"
     ]
    }
   ],
   "source": [
    "# Training\n",
    "for e in 0:1000\n",
    "    train!(loss, params(m), [(X, y)], opt)\n",
    "    if e % 50 == 0; monitor(e) end\n",
    "end"
   ]
  },
  {
   "cell_type": "markdown",
   "metadata": {},
   "source": [
    "You can now predict on a new data with `predict`"
   ]
  },
  {
   "cell_type": "code",
   "execution_count": 12,
   "metadata": {},
   "outputs": [
    {
     "data": {
      "text/plain": [
       "4-element Array{Any,1}:\n",
       "   \"fizz\"    \n",
       "   \"buzz\"    \n",
       "   \"fizzbuzz\"\n",
       " 88          "
      ]
     },
     "execution_count": 12,
     "metadata": {},
     "output_type": "execute_result"
    }
   ],
   "source": [
    "deepbuzz.([3*2,5*4,3*5*10,88])"
   ]
  },
  {
   "cell_type": "code",
   "execution_count": null,
   "metadata": {},
   "outputs": [],
   "source": []
  }
 ],
 "metadata": {
  "@webio": {
   "lastCommId": "aa5bf84933114b0b86c5debaa540d310",
   "lastKernelId": "c1b41c07-39e3-4d11-b984-aa29f204c87f"
  },
  "kernelspec": {
   "display_name": "Julia 1.1.0",
   "language": "julia",
   "name": "julia-1.1"
  },
  "language_info": {
   "file_extension": ".jl",
   "mimetype": "application/julia",
   "name": "julia",
   "version": "1.1.0"
  }
 },
 "nbformat": 4,
 "nbformat_minor": 2
}
