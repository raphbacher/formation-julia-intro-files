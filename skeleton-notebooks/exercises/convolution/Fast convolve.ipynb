{
 "cells": [
  {
   "cell_type": "markdown",
   "metadata": {},
   "source": [
    "# Fast convolution"
   ]
  },
  {
   "cell_type": "markdown",
   "metadata": {
    "lines_to_next_cell": 2
   },
   "source": [
    "Create a `fastconv!` method that takes an output array `out`, the input array `A` and a kernel of convolution `kernel`.\n",
    "\n",
    "Use `CartesianIndices` to iterate over elements."
   ]
  },
  {
   "cell_type": "markdown",
   "metadata": {
    "lines_to_next_cell": 2
   },
   "source": [
    "## Test and benchmark with BenchmarkTools"
   ]
  },
  {
   "cell_type": "markdown",
   "metadata": {
    "lines_to_next_cell": 2
   },
   "source": [
    "## Compare with Python\n",
    "Compare with `numpy.convolve()` and `numpy.fftconvolve` (you can use Pycall to call python in julia or run python in an other notebook)"
   ]
  },
  {
   "cell_type": "markdown",
   "metadata": {
    "lines_to_next_cell": 2
   },
   "source": [
    "Improve using `simd` and `inbounds` (see https://docs.julialang.org/en/v1.1/manual/performance-tips/#man-performance-annotations-1)"
   ]
  }
 ],
 "metadata": {
  "jupytext": {
   "text_representation": {
    "extension": ".jl",
    "format_name": "light"
   }
  },
  "kernelspec": {
   "display_name": "Julia 1",
   "language": "julia",
   "name": "julia-1.0"
  },
  "language_info": {
   "file_extension": ".jl",
   "mimetype": "application/julia",
   "name": "julia",
   "version": "1.0.2"
  }
 },
 "nbformat": 4,
 "nbformat_minor": 2
}
