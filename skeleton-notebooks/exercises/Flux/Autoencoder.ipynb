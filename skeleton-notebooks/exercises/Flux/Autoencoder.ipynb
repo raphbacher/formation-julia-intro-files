{
 "cells": [
  {
   "cell_type": "markdown",
   "metadata": {},
   "source": [
    "# Autoencoder to create images"
   ]
  },
  {
   "cell_type": "markdown",
   "metadata": {
    "lines_to_next_cell": 2
   },
   "source": [
    "## Load libraries\n",
    "```julia\n",
    "using Flux, Flux.Data.MNIST\n",
    "using Flux: @epochs, onehotbatch, mse, throttle\n",
    "using Base.Iterators: partition\n",
    "using Juno: @progress```"
   ]
  },
  {
   "cell_type": "markdown",
   "metadata": {
    "lines_to_next_cell": 2
   },
   "source": [
    "Load MNIST images with `imgs = MNIST.images()`"
   ]
  },
  {
   "cell_type": "markdown",
   "metadata": {
    "lines_to_next_cell": 2
   },
   "source": [
    "Partition into batches of size 1000"
   ]
  },
  {
   "cell_type": "markdown",
   "metadata": {
    "lines_to_next_cell": 2
   },
   "source": [
    "Create a model of an encoder and a decoder.\n",
    "In this case, the input dimension is 28^2 and the output dimension of\n",
    "encoder is 32. This implies that the coding is a compressed representation.\n",
    "We can make lossy compression via this `encoder`.\n",
    "\n",
    "Use `mse` as loss, `ADAM` as optim method."
   ]
  },
  {
   "cell_type": "markdown",
   "metadata": {
    "lines_to_next_cell": 2
   },
   "source": [
    "## Training\n",
    "Train the model on 10 epochs using `@epochs` and `Flux.train!`"
   ]
  },
  {
   "cell_type": "markdown",
   "metadata": {},
   "source": [
    "## Sample output\n",
    "```julia\n",
    "# Sample output\n",
    "\n",
    "using Images\n",
    "\n",
    "img(x::Vector) = Gray.(reshape(clamp.(x, 0, 1), 28, 28))\n",
    "\n",
    "function sample()\n",
    "  # 20 random digits\n",
    "  before = [imgs[i] for i in rand(1:length(imgs), 20)]\n",
    "  # Before and after images\n",
    "  after = img.(map(x -> cpu(m)(float(vec(x))).data, before))\n",
    "  # Stack them all together\n",
    "  hcat(vcat.(before, after)...)\n",
    "end\n",
    "\n",
    "cd(@__DIR__)\n",
    "\n",
    "save(\"sample.png\", sample())\n",
    "```"
   ]
  },
  {
   "cell_type": "code",
   "execution_count": null,
   "metadata": {},
   "outputs": [],
   "source": []
  }
 ],
 "metadata": {
  "jupytext": {
   "text_representation": {
    "extension": ".jl",
    "format_name": "light"
   }
  },
  "kernelspec": {
   "display_name": "Julia 1",
   "language": "julia",
   "name": "julia-1.0"
  },
  "language_info": {
   "file_extension": ".jl",
   "mimetype": "application/julia",
   "name": "julia",
   "version": "1.0.2"
  }
 },
 "nbformat": 4,
 "nbformat_minor": 2
}
