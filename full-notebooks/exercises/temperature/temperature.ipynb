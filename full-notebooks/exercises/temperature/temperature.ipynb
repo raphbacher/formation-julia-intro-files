{
 "cells": [
  {
   "cell_type": "markdown",
   "metadata": {},
   "source": [
    "## Create our types\n",
    "\n",
    "First create an Abstract type `Temperature` (https://docs.julialang.org/en/v1/manual/types/#Abstract-Types-1)\n",
    "and types `Celsius`, `Kelvin` and `Fahrenheit` that herit from `Temperature` and have a float64 `value` attribute"
   ]
  },
  {
   "cell_type": "code",
   "execution_count": 1,
   "metadata": {},
   "outputs": [],
   "source": [
    "abstract type Temperature end\n",
    "\n",
    "struct Celsius <: Temperature\n",
    "    value::Float64\n",
    "end\n",
    "\n",
    "struct Kelvin <: Temperature\n",
    "   value::Float64 \n",
    "end\n",
    "\n",
    "struct Fahrenheit <: Temperature\n",
    "    value::Float64\n",
    "end"
   ]
  },
  {
   "cell_type": "markdown",
   "metadata": {},
   "source": [
    "Bonus: associate the temperature symbols with the unit value of each unit measure."
   ]
  },
  {
   "cell_type": "code",
   "execution_count": 2,
   "metadata": {},
   "outputs": [
    {
     "data": {
      "text/plain": [
       "Kelvin(1.0)"
      ]
     },
     "execution_count": 2,
     "metadata": {},
     "output_type": "execute_result"
    }
   ],
   "source": [
    "const °C = Celsius(1)\n",
    "const °F = Fahrenheit(1)\n",
    "const K = Kelvin(1)"
   ]
  },
  {
   "cell_type": "markdown",
   "metadata": {},
   "source": [
    " Convert Kelvin to Celsius (kelvin = celsius - 273.15), Celsius to Kelvin, Celsius to Fahrenheit (Fahrenheit=Celsius*9/5 + 32) and Fahrenheit to Celsius. You will need to import the `convert` function from Base"
   ]
  },
  {
   "cell_type": "code",
   "execution_count": 3,
   "metadata": {},
   "outputs": [
    {
     "data": {
      "text/plain": [
       "convert (generic function with 190 methods)"
      ]
     },
     "execution_count": 3,
     "metadata": {},
     "output_type": "execute_result"
    }
   ],
   "source": [
    "import Base: convert # note what happened if we defined convert before\n",
    "\n",
    "convert(::Type{Kelvin},  celsius::Celsius)        = Kelvin(celsius.value + 273.15)\n",
    "convert(::Type{Celsius}, kelvin::Kelvin)          = Celsius(kelvin.value - 273.15)\n",
    "convert(::Type{Celsius}, fahrenheit::Fahrenheit)  = Celsius((fahrenheit.value - 32)*5/9)\n",
    "convert(::Type{Fahrenheit}, celsius::Celsius)     = Fahrenheit(celsius.value*9/5 + 32)"
   ]
  },
  {
   "cell_type": "markdown",
   "metadata": {},
   "source": [
    "Then add also Kelvin to Farhenheit and Farhenheit to Kelvin"
   ]
  },
  {
   "cell_type": "code",
   "execution_count": 4,
   "metadata": {},
   "outputs": [
    {
     "data": {
      "text/plain": [
       "convert (generic function with 192 methods)"
      ]
     },
     "execution_count": 4,
     "metadata": {},
     "output_type": "execute_result"
    }
   ],
   "source": [
    "convert(::Type{Fahrenheit}, kelvin::Kelvin) = Fahrenheit(Celius(kelvin))\n",
    "convert(::Type{Kelvin},  fahrenheit::Fahrenheit)  = Kelvin(Celsius(fahrenheit))"
   ]
  },
  {
   "cell_type": "markdown",
   "metadata": {},
   "source": [
    "## New constructors\n",
    "Create constructors `Kelvin(Celsius)`, `Celsius(Kelvin)`..."
   ]
  },
  {
   "cell_type": "code",
   "execution_count": 5,
   "metadata": {},
   "outputs": [
    {
     "data": {
      "text/plain": [
       "Fahrenheit"
      ]
     },
     "execution_count": 5,
     "metadata": {},
     "output_type": "execute_result"
    }
   ],
   "source": [
    "Kelvin(celsius::Celsius)         = convert(Kelvin,  celsius)\n",
    "Celsius(kelvin::Kelvin)          = convert(Celsius, kelvin)\n",
    "Celsius(fahrenheit::Fahrenheit)  = convert(Celsius, fahrenheit)\n",
    "Fahrenheit(celsius::Celsius) = convert(Fahrenheit, celsius) "
   ]
  },
  {
   "cell_type": "markdown",
   "metadata": {},
   "source": [
    "Add `+,-` operators between two values of same unit"
   ]
  },
  {
   "cell_type": "code",
   "execution_count": 6,
   "metadata": {},
   "outputs": [
    {
     "data": {
      "text/plain": [
       "* (generic function with 1 method)"
      ]
     },
     "execution_count": 6,
     "metadata": {},
     "output_type": "execute_result"
    }
   ],
   "source": [
    "import Base: +,-, isapprox\n",
    "+(x::T, y::T) where {T <: Temperature} = T(x.value + y.value)\n",
    "-(x::T, y::T) where {T <: Temperature} = T(x.value - y.value)\n",
    "isapprox(x::T, y::T) where {T <: Temperature} = isapprox(x.value, y.value)\n",
    "\n",
    "*(x::Number, y::T) where {T <: Temperature} = T(x * y.value)"
   ]
  },
  {
   "cell_type": "markdown",
   "metadata": {},
   "source": [
    "## Manage mix units\n",
    "\n",
    "Define your heriarchy of temperature : what happens when we have Kelvin and Celsius, Celsius and Fahrenheit ?\n",
    "For that use promote_rule from Base\n",
    "Here we choose to promote \n",
    "- Kelvin + Celsius -> Kelvin\n",
    "- Fahrenheit + Celsius -> Celsius\n",
    "- Fahrenheit + Kelvin -> Kelvin\n",
    "Use promote and promote_rule from Base to manage the operations on mix units"
   ]
  },
  {
   "cell_type": "code",
   "execution_count": 7,
   "metadata": {},
   "outputs": [
    {
     "data": {
      "text/plain": [
       "promote_rule (generic function with 139 methods)"
      ]
     },
     "execution_count": 7,
     "metadata": {},
     "output_type": "execute_result"
    }
   ],
   "source": [
    "import Base: promote_rule\n",
    "\n",
    "promote_rule(::Type{Kelvin},     ::Type{Celsius}) = Kelvin\n",
    "promote_rule(::Type{Fahrenheit}, ::Type{Celsius}) = Celsius\n",
    "promote_rule(::Type{Fahrenheit}, ::Type{Kelvin}) = Kelvin"
   ]
  },
  {
   "cell_type": "code",
   "execution_count": 8,
   "metadata": {},
   "outputs": [
    {
     "data": {
      "text/plain": [
       "isapprox (generic function with 10 methods)"
      ]
     },
     "execution_count": 8,
     "metadata": {},
     "output_type": "execute_result"
    }
   ],
   "source": [
    "+(x::Temperature, y::Temperature) = +(promote(x,y)...)\n",
    "-(x::Temperature, y::Temperature) = -(promote(x,y)...)\n",
    "isapprox(x::Temperature, y::Temperature) = isapprox(promote(x,y)...)"
   ]
  },
  {
   "cell_type": "markdown",
   "metadata": {},
   "source": [
    "You can now see https://github.com/ordovician/Airship.jl, and https://github.com/ajkeller34/Unitful.jl"
   ]
  },
  {
   "cell_type": "code",
   "execution_count": null,
   "metadata": {},
   "outputs": [],
   "source": []
  }
 ],
 "metadata": {
  "@webio": {
   "lastCommId": "cb12b6d6dbe043388effd5b6ac7ce5e6",
   "lastKernelId": "bdf4889c-5d55-4a00-a03d-a5af3edc6c16"
  },
  "kernelspec": {
   "display_name": "Julia 1.1.0",
   "language": "julia",
   "name": "julia-1.1"
  },
  "language_info": {
   "file_extension": ".jl",
   "mimetype": "application/julia",
   "name": "julia",
   "version": "1.1.0"
  }
 },
 "nbformat": 4,
 "nbformat_minor": 2
}
