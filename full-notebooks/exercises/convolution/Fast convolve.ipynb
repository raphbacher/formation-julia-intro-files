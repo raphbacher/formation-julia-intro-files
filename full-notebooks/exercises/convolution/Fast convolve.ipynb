{
 "cells": [
  {
   "cell_type": "markdown",
   "metadata": {},
   "source": [
    "# Fast convolution"
   ]
  },
  {
   "cell_type": "markdown",
   "metadata": {},
   "source": [
    "Create a `fastconv!` method that takes an output array `out`, the input array `A` and a kernel of convolution `kernel`.\n",
    "\n",
    "Use `CartesianIndices` to iterate over elements."
   ]
  },
  {
   "cell_type": "code",
   "execution_count": 1,
   "metadata": {},
   "outputs": [
    {
     "data": {
      "text/plain": [
       "fastconv (generic function with 1 method)"
      ]
     },
     "execution_count": 1,
     "metadata": {},
     "output_type": "execute_result"
    }
   ],
   "source": [
    "function fastconv!(out::AbstractArray, A::AbstractArray,kernel::AbstractArray)\n",
    "    R = CartesianIndices(A)\n",
    "    K = CartesianIndices(kernel)\n",
    "    Ifirst, Ilast = first(R), last(R)\n",
    "    Kfirst, Klast = first(K), last(K)\n",
    "    half_width = div.(size(kernel),2) # beware the dots\n",
    "    IHW = CartesianIndex(half_width)\n",
    "    for I in R\n",
    "        s = zero(eltype(out))\n",
    "        @inbounds @simd for J in max(Ifirst, I-IHW):min(Ilast, I+IHW)\n",
    "            s += A[J]*kernel[max(Kfirst,min(Klast,J-(I-IHW)))]\n",
    "        end\n",
    "        out[I] = s\n",
    "    end\n",
    "    out\n",
    "end\n",
    "\n",
    "function fastconv(a,kernel)\n",
    "    out = similar(a)\n",
    "    fastconv!(out,a,kernel)\n",
    "    return out\n",
    "end"
   ]
  },
  {
   "cell_type": "markdown",
   "metadata": {},
   "source": [
    "## Test and benchmark with BenchmarkTools"
   ]
  },
  {
   "cell_type": "code",
   "execution_count": null,
   "metadata": {},
   "outputs": [],
   "source": []
  },
  {
   "cell_type": "markdown",
   "metadata": {},
   "source": [
    "## Compare with Python\n",
    "Compare with `numpy.convolve()` and `numpy.fftconvolve` (you can use Pycall to call python in julia or run python in an other notebook)"
   ]
  },
  {
   "cell_type": "code",
   "execution_count": null,
   "metadata": {},
   "outputs": [],
   "source": []
  },
  {
   "cell_type": "markdown",
   "metadata": {},
   "source": [
    "Improve using `simd` and `inbounds` (see https://docs.julialang.org/en/v1.1/manual/performance-tips/#man-performance-annotations-1)"
   ]
  },
  {
   "cell_type": "code",
   "execution_count": null,
   "metadata": {},
   "outputs": [],
   "source": []
  }
 ],
 "metadata": {
  "@webio": {
   "lastCommId": "62d2267961ce414f973d572c04d030aa",
   "lastKernelId": "6f8c54a8-c3f7-4df0-be24-89678f7e7011"
  },
  "kernelspec": {
   "display_name": "Julia 1.1.0",
   "language": "julia",
   "name": "julia-1.1"
  },
  "language_info": {
   "file_extension": ".jl",
   "mimetype": "application/julia",
   "name": "julia",
   "version": "1.1.0"
  }
 },
 "nbformat": 4,
 "nbformat_minor": 2
}
