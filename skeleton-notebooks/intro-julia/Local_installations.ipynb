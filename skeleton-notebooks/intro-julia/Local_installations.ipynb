{
 "cells": [
  {
   "cell_type": "markdown",
   "metadata": {
    "lines_to_next_cell": 2
   },
   "source": [
    "## Get Julia running locally\n",
    "\n",
    "\n",
    "## Local package installations\n",
    "\n",
    "If you'd like to run these tutorial notebooks locally, you'll want to install all the packages used in them. Since installation can take some time, you may want to run this notebook before getting started with the tutorial, rather than trying to install everything as you go.\n",
    "\n",
    "#### Installations"
   ]
  },
  {
   "cell_type": "markdown",
   "metadata": {
    "lines_to_next_cell": 2
   },
   "source": [
    "#### Loading all packages"
   ]
  },
  {
   "cell_type": "markdown",
   "metadata": {
    "lines_to_next_cell": 2
   },
   "source": [
    "#### Tests\n",
    "\n",
    "`plot` should generate a plot,"
   ]
  },
  {
   "cell_type": "markdown",
   "metadata": {
    "lines_to_next_cell": 2
   },
   "source": [
    "`RGB(0, 0, 0)` should return a black square,"
   ]
  },
  {
   "cell_type": "markdown",
   "metadata": {
    "lines_to_next_cell": 2
   },
   "source": [
    "and `@btime primes(1000000);` should report an execution time in ms and memory used. For example, on one computer, this yielded \"2.654 ms (5 allocations: 876.14 KiB)\"."
   ]
  }
 ],
 "metadata": {
  "jupytext": {
   "text_representation": {
    "extension": ".jl",
    "format_name": "light"
   }
  },
  "kernelspec": {
   "display_name": "Julia 1",
   "language": "julia",
   "name": "julia-1.0"
  },
  "language_info": {
   "file_extension": ".jl",
   "mimetype": "application/julia",
   "name": "julia",
   "version": "1.0.2"
  }
 },
 "nbformat": 4,
 "nbformat_minor": 2
}
