{
 "cells": [
  {
   "cell_type": "markdown",
   "metadata": {
    "lines_to_next_cell": 2
   },
   "source": [
    "## Create our types\n",
    "\n",
    "First create an Abstract type `Temperature` (https://docs.julialang.org/en/v1/manual/types/#Abstract-Types-1)\n",
    "and types `Celsius`, `Kelvin` and `Fahrenheit` that herit from `Temperature` and have a float64 `value` attribute"
   ]
  },
  {
   "cell_type": "markdown",
   "metadata": {
    "lines_to_next_cell": 2
   },
   "source": [
    "Bonus: associate the temperature symbols with the unit value of each unit measure."
   ]
  },
  {
   "cell_type": "markdown",
   "metadata": {
    "lines_to_next_cell": 2
   },
   "source": [
    " Convert Kelvin to Celsius (kelvin = celsius - 273.15), Celsius to Kelvin, Celsius to Fahrenheit (Fahrenheit=Celsius*9/5 + 32) and Fahrenheit to Celsius. You will need to import the `convert` function from Base"
   ]
  },
  {
   "cell_type": "markdown",
   "metadata": {
    "lines_to_next_cell": 2
   },
   "source": [
    "Then add also Kelvin to Farhenheit and Farhenheit to Kelvin"
   ]
  },
  {
   "cell_type": "markdown",
   "metadata": {
    "lines_to_next_cell": 2
   },
   "source": [
    "## New constructors\n",
    "Create constructors `Kelvin(Celsius)`, `Celsius(Kelvin)`..."
   ]
  },
  {
   "cell_type": "markdown",
   "metadata": {
    "lines_to_next_cell": 2
   },
   "source": [
    "Add `+,-` operators between two values of same unit"
   ]
  },
  {
   "cell_type": "markdown",
   "metadata": {},
   "source": [
    "## Manage mix units\n",
    "\n",
    "Define your heriarchy of temperature : what happens when we have Kelvin and Celsius, Celsius and Fahrenheit ?\n",
    "For that use promote_rule from Base\n",
    "Here we choose to promote \n",
    "- Kelvin + Celsius -> Kelvin\n",
    "- Fahrenheit + Celsius -> Celsius\n",
    "- Fahrenheit + Kelvin -> Kelvin\n",
    "Use promote and promote_rule from Base to manage the operations on mix units"
   ]
  },
  {
   "cell_type": "code",
   "execution_count": null,
   "metadata": {},
   "outputs": [],
   "source": []
  },
  {
   "cell_type": "markdown",
   "metadata": {
    "lines_to_next_cell": 2
   },
   "source": [
    "You can now see https://github.com/ordovician/Airship.jl, and https://github.com/ajkeller34/Unitful.jl"
   ]
  }
 ],
 "metadata": {
  "jupytext": {
   "text_representation": {
    "extension": ".jl",
    "format_name": "light"
   }
  },
  "kernelspec": {
   "display_name": "Julia 1",
   "language": "julia",
   "name": "julia-1.0"
  },
  "language_info": {
   "file_extension": ".jl",
   "mimetype": "application/julia",
   "name": "julia",
   "version": "1.0.2"
  }
 },
 "nbformat": 4,
 "nbformat_minor": 2
}
