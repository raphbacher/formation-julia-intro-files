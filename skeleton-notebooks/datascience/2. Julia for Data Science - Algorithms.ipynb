{
 "cells": [
  {
   "cell_type": "markdown",
   "metadata": {
    "lines_to_next_cell": 2
   },
   "source": [
    "# Julia for Data Science\n",
    "\n",
    "* Data\n",
    "* **Data processing**\n",
    "* Visualization\n",
    "\n",
    "### Data processing: Standard machine learning algorithms in Julia\n",
    "In what's next, we will see how to use some of the standard machine learning algorithms implemented in Julia.\n",
    "\n",
    "First add DataFrames and CSV packages"
   ]
  },
  {
   "cell_type": "markdown",
   "metadata": {
    "lines_to_next_cell": 2
   },
   "source": [
    "### Example 1: Kmeans Clustering\n",
    "\n",
    "Let's start with some data.\n",
    "\n",
    "The Sacramento real estate transactions file that we download next is a list of 985 real estate transactions in the Sacramento area reported over a five-day period.\n",
    "Download file from http://samplecsvs.s3.amazonaws.com/Sacramentorealestatetransactions.csv and read it with CSV into a `houses` variable"
   ]
  },
  {
   "cell_type": "markdown",
   "metadata": {
    "lines_to_next_cell": 2
   },
   "source": [
    "Let's use `Plots` to plot with the `pyplot` backend.\n",
    "Add the Plots package and create an empty plot."
   ]
  },
  {
   "cell_type": "markdown",
   "metadata": {
    "lines_to_next_cell": 2
   },
   "source": [
    "Now let's create a scatter plot to show the price of a house vs. its square footage,"
   ]
  },
  {
   "cell_type": "markdown",
   "metadata": {
    "lines_to_next_cell": 2
   },
   "source": [
    "*Houses with 0 square feet that cost money?*\n",
    "\n",
    "The square footage seems to not have been recorded in these cases. \n",
    "\n",
    "Filtering these houses out is easy to do!"
   ]
  },
  {
   "cell_type": "markdown",
   "metadata": {},
   "source": [
    "This makes sense! The higher the square footage, the higher the price."
   ]
  },
  {
   "cell_type": "markdown",
   "metadata": {
    "lines_to_next_cell": 2
   },
   "source": [
    "We can filter a `DataFrame` by feature value too, using the `by` function. "
   ]
  },
  {
   "cell_type": "markdown",
   "metadata": {
    "lines_to_next_cell": 2
   },
   "source": [
    "Get the mean price for each house type.\n",
    "`mean()` has been moved into the `Statistics` module in the standard library; you need to first enter `using Statistics` to start using it."
   ]
  },
  {
   "cell_type": "markdown",
   "metadata": {
    "lines_to_next_cell": 2
   },
   "source": [
    "Now let's do some kmeans clustering on this data.\n",
    "\n",
    "First, we can load the `Clustering` package to do this."
   ]
  },
  {
   "cell_type": "markdown",
   "metadata": {},
   "source": [
    "Let us see how `Clustering` works with a generic example first."
   ]
  },
  {
   "cell_type": "markdown",
   "metadata": {
    "lines_to_next_cell": 2
   },
   "source": [
    "Make a random dataset with 1000 points, where each point is a 5-dimensional vector\n",
    "Performs a K-means over X, trying to group them into 20 clusters with a maximum number of iterations to 200"
   ]
  },
  {
   "cell_type": "markdown",
   "metadata": {
    "lines_to_next_cell": 2
   },
   "source": [
    "Now, let's get back to the problem in hand and see how this can be applied over there.\n",
    "Let's store the features `:latitude` and `:longitude` in an array `X` that we will pass to `kmeans`. First we add data for `:latitude` and `:longitude` to a new `DataFrame` called `X`."
   ]
  },
  {
   "cell_type": "markdown",
   "metadata": {
    "lines_to_next_cell": 2
   },
   "source": [
    "and then we convert `X` to an `Array` via `X = convert(Array, X)`. This will turn `X` into an `Array`."
   ]
  },
  {
   "cell_type": "markdown",
   "metadata": {
    "lines_to_next_cell": 2
   },
   "source": [
    "Then we replace missing values in X with the median value."
   ]
  },
  {
   "cell_type": "markdown",
   "metadata": {
    "lines_to_next_cell": 2
   },
   "source": [
    "We now take the transpose of `X` using the `transpose()` function. A transpose is required since `kmeans()` function takes each row as a `feature`, and each column a `data point`.\n",
    "To be able to use this transpose in kmeans, we have (for now ?) to assure that X' is a simple array (and not a TransposedArray type). For this use the `copy` function."
   ]
  },
  {
   "cell_type": "markdown",
   "metadata": {
    "lines_to_next_cell": 2
   },
   "source": [
    "As a first pass at guessing how many clusters we might need, let's use the number of zip codes in our data.\n",
    "\n",
    "(Try changing this to see how it impacts results!)"
   ]
  },
  {
   "cell_type": "markdown",
   "metadata": {
    "lines_to_next_cell": 2
   },
   "source": [
    "Now, we can use the `kmeans()` function to do kmeans clustering!"
   ]
  },
  {
   "cell_type": "markdown",
   "metadata": {
    "lines_to_next_cell": 2
   },
   "source": [
    "Now let's create a new data frame, `df`, with all the same data as `filter_houses` that also includes a column for the cluster to which each house has been assigned."
   ]
  },
  {
   "cell_type": "markdown",
   "metadata": {
    "lines_to_next_cell": 2
   },
   "source": [
    "Let's plot each cluster as a different color."
   ]
  },
  {
   "cell_type": "markdown",
   "metadata": {
    "lines_to_next_cell": 2
   },
   "source": [
    "And now let's try coloring them by zip code."
   ]
  },
  {
   "cell_type": "markdown",
   "metadata": {
    "lines_to_next_cell": 2
   },
   "source": [
    "Let's see the two plots side by side."
   ]
  },
  {
   "cell_type": "markdown",
   "metadata": {},
   "source": [
    "Not exactly! but almost... Now we know that ZIP codes are not randomly assigned!"
   ]
  },
  {
   "cell_type": "markdown",
   "metadata": {
    "lines_to_next_cell": 2
   },
   "source": [
    "### Example 2: Nearest Neighbor with a KDTree\n",
    "\n",
    "For this example, let's start by loading the `NearestNeighbors` package."
   ]
  },
  {
   "cell_type": "markdown",
   "metadata": {
    "lines_to_next_cell": 2
   },
   "source": [
    "With this package, we'll look for the `knearest` neighbors of one of the houses, `point`."
   ]
  },
  {
   "cell_type": "markdown",
   "metadata": {},
   "source": [
    "Now we can build a `KDTree` and use `knn` to look for `point`'s nearest neighbors!"
   ]
  },
  {
   "cell_type": "code",
   "execution_count": null,
   "metadata": {},
   "outputs": [],
   "source": []
  },
  {
   "cell_type": "markdown",
   "metadata": {},
   "source": [
    "We'll first generate a plot with all of the houses in the same color,"
   ]
  },
  {
   "cell_type": "code",
   "execution_count": null,
   "metadata": {},
   "outputs": [],
   "source": []
  },
  {
   "cell_type": "markdown",
   "metadata": {},
   "source": [
    "and then overlay the data corresponding to the nearest neighbors of `point` in a different color."
   ]
  },
  {
   "cell_type": "code",
   "execution_count": null,
   "metadata": {},
   "outputs": [],
   "source": []
  },
  {
   "cell_type": "markdown",
   "metadata": {
    "lines_to_next_cell": 2
   },
   "source": [
    "There are those nearest neighbors in red!\n",
    "\n",
    "We can see the cities of the neighboring houses by using the indices, `idxs`, and the feature, `:city`, to index into the `DataFrame` `filter_houses`."
   ]
  },
  {
   "cell_type": "markdown",
   "metadata": {
    "lines_to_next_cell": 2
   },
   "source": [
    "### Example 3: PCA for dimensionality reduction\n",
    "\n",
    "Let us try to reduce the dimensions of the price/area data from the houses dataset.\n",
    "\n",
    "We can start by grabbing the square footage and prices of the houses and storing them in an `Array`."
   ]
  },
  {
   "cell_type": "markdown",
   "metadata": {
    "lines_to_next_cell": 2
   },
   "source": [
    "Recall how the data looks when we plot housing prices against square footage."
   ]
  },
  {
   "cell_type": "markdown",
   "metadata": {
    "lines_to_next_cell": 2
   },
   "source": [
    "We can use the `MultivariateStats` package to run PCA"
   ]
  },
  {
   "cell_type": "markdown",
   "metadata": {
    "lines_to_next_cell": 2
   },
   "source": [
    "Use `fit` to fit the model"
   ]
  },
  {
   "cell_type": "markdown",
   "metadata": {},
   "source": [
    "Note that you can choose the maximum dimension of the new space by setting `maxoutdim`, and you can change the method to, for example, `:svd` with the following syntax.\n",
    "\n",
    "```julia\n",
    "fit(PCA, F; maxoutdim = 1,method=:svd)\n",
    "```"
   ]
  },
  {
   "cell_type": "markdown",
   "metadata": {
    "lines_to_next_cell": 2
   },
   "source": [
    "It seems like we only get one dimension with PCA! Let's use `transform` to map all of our 2D data in `F` to `1D` data with our model, `M`."
   ]
  },
  {
   "cell_type": "markdown",
   "metadata": {
    "lines_to_next_cell": 2
   },
   "source": [
    "Let's use `reconstruct` to put our now 1D data, `y`, in a form that we can easily overlay (`Xr`) with our 2D data in `F` along the principle direction/component."
   ]
  },
  {
   "cell_type": "markdown",
   "metadata": {
    "lines_to_next_cell": 2
   },
   "source": [
    "And now we create that overlay, where we can see points along the principle component in red. \n",
    "\n",
    "(Each blue point maps uniquely to some red point!)"
   ]
  },
  {
   "cell_type": "markdown",
   "metadata": {
    "lines_to_next_cell": 2
   },
   "source": [
    "### Example 4: Learn how to build a simple multi-layer-perceptron on the MNIST dataset\n",
    "\n",
    "MNIST from: https://github.com/FluxML/model-zoo/blob/master/mnist/mlp.jl\n",
    "\n",
    "Let's start by loading `Flux`, importing a few things from `Flux` explicitly, and bringing the `repeated` function into our scope."
   ]
  },
  {
   "cell_type": "markdown",
   "metadata": {
    "lines_to_next_cell": 2
   },
   "source": [
    "We can now store all the MNIST images in `imgs` and take a peak into this vector to see what the data looks like"
   ]
  },
  {
   "cell_type": "markdown",
   "metadata": {
    "lines_to_next_cell": 2
   },
   "source": [
    "Let's look at the type of an individual image."
   ]
  },
  {
   "cell_type": "markdown",
   "metadata": {
    "lines_to_next_cell": 2
   },
   "source": [
    "#### Reorganizing our array of images\n",
    "\n",
    "We see this is a 2D array that stores `ColorTypes`. To work more easily with this data, let's convert all `ColorTypes` to floating point numbers."
   ]
  },
  {
   "cell_type": "markdown",
   "metadata": {
    "lines_to_next_cell": 2
   },
   "source": [
    "Now we can see what `imgs[3]` looks like as an array of floats, rather than as an array of colors!"
   ]
  },
  {
   "cell_type": "markdown",
   "metadata": {
    "lines_to_next_cell": 2
   },
   "source": [
    "**Let's stack the images to create one large 2D array, `X`, that stores the data for each image as a column.**\n",
    "\n",
    "To do this, we can **first** use `reshape` to unravel each image, creating a 1D array (`Vector`) of floats from a 2D array (`Matrix`) of floats."
   ]
  },
  {
   "cell_type": "markdown",
   "metadata": {
    "lines_to_next_cell": 2
   },
   "source": [
    "(Note that `Vector` is an alias for a 1D `Array`.)"
   ]
  },
  {
   "cell_type": "markdown",
   "metadata": {
    "lines_to_next_cell": 2
   },
   "source": [
    "This makes `unraveled_fpt_imgs` a `Vector` of `Vector`s where `imgs[3]` is now"
   ]
  },
  {
   "cell_type": "markdown",
   "metadata": {
    "lines_to_next_cell": 2
   },
   "source": [
    "After using `reshape` to get a `Vector` of `Vector`s, we can use `hcat` to build a `Matrix`, `X`, from `unraveled_fpt_imgs` where the `Vector`s stored in `unraveled_fpt_imgs` will become the columns of `X`.\n",
    "\n",
    "Note that we're using the \"splat\" command below, `...`, which allows you to pass all the elements of an object to a function, rather than just passing the object itself."
   ]
  },
  {
   "cell_type": "markdown",
   "metadata": {
    "lines_to_next_cell": 2
   },
   "source": [
    "#### How to go back to images from this 2D `Array`\n",
    "\n",
    "So now each column in X is an image reshaped to a vector of floating points. Let's pick one column and see what the digit is.\n",
    "\n",
    "Let's try to view the second image in the original array, `imgs`, by taking the second column of `X`"
   ]
  },
  {
   "cell_type": "markdown",
   "metadata": {
    "lines_to_next_cell": 2
   },
   "source": [
    "We'll `reshape` this array to a 2D, 28x28 array,"
   ]
  },
  {
   "cell_type": "markdown",
   "metadata": {},
   "source": [
    "and finally use `colorview` from the `Images` package to view the handwritten digit."
   ]
  },
  {
   "cell_type": "code",
   "execution_count": null,
   "metadata": {},
   "outputs": [],
   "source": []
  },
  {
   "cell_type": "markdown",
   "metadata": {
    "lines_to_next_cell": 2
   },
   "source": [
    "*Our data is in working order!*\n",
    "\n",
    "For our machine to learn the digit with which each image is associated, we'll need to train it using correct answers. Therefore we'll make use of the `labels` associated with these images from MNIST."
   ]
  },
  {
   "cell_type": "markdown",
   "metadata": {
    "lines_to_next_cell": 2
   },
   "source": [
    "One-hot-encode the labels with `onehotbatch`"
   ]
  },
  {
   "cell_type": "markdown",
   "metadata": {},
   "source": [
    "which gives a binary indicator vector for each figure"
   ]
  },
  {
   "cell_type": "markdown",
   "metadata": {
    "lines_to_next_cell": 2
   },
   "source": [
    "Build the network"
   ]
  },
  {
   "cell_type": "markdown",
   "metadata": {
    "lines_to_next_cell": 2
   },
   "source": [
    "Define the loss functions and accuracy"
   ]
  },
  {
   "cell_type": "markdown",
   "metadata": {
    "lines_to_next_cell": 2
   },
   "source": [
    "Use `X` to create our training data and then declare our evaluation function:"
   ]
  },
  {
   "cell_type": "markdown",
   "metadata": {
    "lines_to_next_cell": 2
   },
   "source": [
    "So far, we have defined our training data and our evaluation functions.\n",
    "\n",
    "Let's take a look at the function signature of Flux.train!"
   ]
  },
  {
   "cell_type": "markdown",
   "metadata": {
    "lines_to_next_cell": 2
   },
   "source": [
    "**Now we can train our model and look at the accuracy thereafter.**"
   ]
  },
  {
   "cell_type": "markdown",
   "metadata": {
    "lines_to_next_cell": 2
   },
   "source": [
    "Now that we've trained our model, let's create test data, `tX`, "
   ]
  },
  {
   "cell_type": "markdown",
   "metadata": {},
   "source": [
    "and run our model on one of the images from `tX`"
   ]
  },
  {
   "cell_type": "code",
   "execution_count": null,
   "metadata": {},
   "outputs": [],
   "source": []
  },
  {
   "cell_type": "markdown",
   "metadata": {
    "lines_to_next_cell": 2
   },
   "source": [
    "The largest element of `test_image` is the 8th element, so our model says that test_image is a \"7\".\n",
    "\n",
    "Now we can look at the original image."
   ]
  },
  {
   "cell_type": "markdown",
   "metadata": {},
   "source": [
    "and there we have it!"
   ]
  },
  {
   "cell_type": "markdown",
   "metadata": {
    "lines_to_next_cell": 2
   },
   "source": [
    "### Example 5: Linear regression in Julia (we will write our own Julia code and Python code)\n",
    "\n",
    "Let's try to find the best line fit of the following data:"
   ]
  },
  {
   "cell_type": "markdown",
   "metadata": {
    "lines_to_next_cell": 2
   },
   "source": [
    "We want to fit a line through this data.\n",
    "\n",
    "Let's write a Julia function to do this."
   ]
  },
  {
   "cell_type": "markdown",
   "metadata": {},
   "source": [
    "To fit the line, we just need to find the slope and the y-intercept (a and b).\n",
    "\n",
    "Then add this fit to the existing plot!"
   ]
  },
  {
   "cell_type": "code",
   "execution_count": null,
   "metadata": {},
   "outputs": [],
   "source": []
  },
  {
   "cell_type": "markdown",
   "metadata": {},
   "source": [
    "Let's generate a much bigger dataset,"
   ]
  },
  {
   "cell_type": "code",
   "execution_count": null,
   "metadata": {},
   "outputs": [],
   "source": []
  },
  {
   "cell_type": "markdown",
   "metadata": {
    "lines_to_next_cell": 2
   },
   "source": [
    "and now we can time how long it takes to find a fit to this data."
   ]
  },
  {
   "cell_type": "markdown",
   "metadata": {},
   "source": [
    "Now we will write the same code using Python"
   ]
  },
  {
   "cell_type": "code",
   "execution_count": null,
   "metadata": {},
   "outputs": [],
   "source": []
  },
  {
   "cell_type": "code",
   "execution_count": null,
   "metadata": {},
   "outputs": [],
   "source": []
  },
  {
   "cell_type": "markdown",
   "metadata": {},
   "source": [
    "**Let's use the benchmarking package to time these two.**"
   ]
  },
  {
   "cell_type": "code",
   "execution_count": null,
   "metadata": {
    "lines_to_next_cell": 2
   },
   "outputs": [],
   "source": []
  }
 ],
 "metadata": {
  "jupytext": {
   "text_representation": {
    "extension": ".jl",
    "format_name": "light"
   }
  },
  "kernelspec": {
   "display_name": "Julia 1",
   "language": "julia",
   "name": "julia-1.0"
  },
  "language_info": {
   "file_extension": ".jl",
   "mimetype": "application/julia",
   "name": "julia",
   "version": "1.0.2"
  }
 },
 "nbformat": 4,
 "nbformat_minor": 2
}
