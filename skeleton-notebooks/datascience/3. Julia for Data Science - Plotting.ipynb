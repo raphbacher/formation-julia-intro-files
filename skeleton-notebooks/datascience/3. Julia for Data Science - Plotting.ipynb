{
 "cells": [
  {
   "cell_type": "markdown",
   "metadata": {},
   "source": [
    "# Julia for Data Science\n",
    "\n",
    "* Data\n",
    "* Data processing\n",
    "* **Visualization**\n",
    "\n",
    "### Data visualization: generating nice looking plots in Julia is straight forward\n",
    "In what's next, we will see some of the tools that Julia plotting provides to produce high quality figures for your data."
   ]
  },
  {
   "cell_type": "markdown",
   "metadata": {},
   "source": [
    "## Part 1: plot math (specifically latex equations) in our plots"
   ]
  },
  {
   "cell_type": "markdown",
   "metadata": {
    "lines_to_next_cell": 2
   },
   "source": [
    "Add LatexStrings package and create a variable x that goes from 1 to 4 by 0.2 step"
   ]
  },
  {
   "cell_type": "markdown",
   "metadata": {
    "lines_to_next_cell": 2
   },
   "source": [
    "Let's declare some variables that store the functions we want to plot written in LaTex par exemple x2, logx et sqrtx"
   ]
  },
  {
   "cell_type": "markdown",
   "metadata": {
    "lines_to_next_cell": 2
   },
   "source": [
    "Create three functions and plot them all!"
   ]
  },
  {
   "cell_type": "markdown",
   "metadata": {
    "lines_to_next_cell": 2
   },
   "source": [
    "Now we can annotate each of these curves using either text, or latex strings"
   ]
  },
  {
   "cell_type": "markdown",
   "metadata": {
    "lines_to_next_cell": 2
   },
   "source": [
    "## Part 2: Stat Plots. \n",
    "\n",
    "2D histograms are really easy!"
   ]
  },
  {
   "cell_type": "markdown",
   "metadata": {},
   "source": [
    "**Let's go back to our houses dataset and learn even more things about it!**"
   ]
  },
  {
   "cell_type": "code",
   "execution_count": null,
   "metadata": {},
   "outputs": [],
   "source": []
  },
  {
   "cell_type": "markdown",
   "metadata": {},
   "source": [
    "Interesting! \n",
    "\n",
    "Most houses sold are in the range 1000-1500 and they cost approximately 150,000 dollars"
   ]
  },
  {
   "cell_type": "markdown",
   "metadata": {},
   "source": [
    "*Let's see more stats plots.*\n",
    "\n",
    "We can convince ourselves that random distrubutions are indeed very similar.\n",
    "\n",
    "Let's do that through **box plots** and **violin plots**."
   ]
  },
  {
   "cell_type": "code",
   "execution_count": null,
   "metadata": {},
   "outputs": [],
   "source": []
  },
  {
   "cell_type": "markdown",
   "metadata": {
    "lines_to_next_cell": 2
   },
   "source": [
    "These plots look almost identical, so we do have the same distribution indeed.\n",
    "\n",
    "Let's study the price distributions in different cities in the houses dataset."
   ]
  },
  {
   "cell_type": "markdown",
   "metadata": {
    "lines_to_next_cell": 2
   },
   "source": [
    "## Part 3: Subplots are very easy!\n",
    "\n",
    "You can create your own layout as follows."
   ]
  },
  {
   "cell_type": "markdown",
   "metadata": {},
   "source": [
    "## Part 4: Bonus plot, XKCD kind of plots with PyPlot\n",
    "\n",
    "Let's load `PyPlot` and create some data."
   ]
  },
  {
   "cell_type": "code",
   "execution_count": null,
   "metadata": {},
   "outputs": [],
   "source": []
  },
  {
   "cell_type": "markdown",
   "metadata": {
    "lines_to_next_cell": 2
   },
   "source": [
    "Modify the plot parameters:"
   ]
  },
  {
   "cell_type": "markdown",
   "metadata": {
    "lines_to_next_cell": 2
   },
   "source": [
    "And finally, display the figure!"
   ]
  }
 ],
 "metadata": {
  "jupytext": {
   "text_representation": {
    "extension": ".jl",
    "format_name": "light"
   }
  },
  "kernelspec": {
   "display_name": "Julia 1",
   "language": "julia",
   "name": "julia-1.0"
  },
  "language_info": {
   "file_extension": ".jl",
   "mimetype": "application/julia",
   "name": "julia",
   "version": "1.0.2"
  }
 },
 "nbformat": 4,
 "nbformat_minor": 2
}
