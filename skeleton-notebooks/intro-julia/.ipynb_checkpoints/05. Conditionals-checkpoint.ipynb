{
 "cells": [
  {
   "cell_type": "markdown",
   "metadata": {},
   "source": [
    "\n",
    "# Conditionals\n",
    "\n",
    "#### with the `if` keyword\n",
    "In Julia, the syntax"
   ]
  },
  {
   "cell_type": "code",
   "execution_count": null,
   "metadata": {},
   "outputs": [],
   "source": [
    "if *condition 1*\n",
    "    *option 1*\n",
    "elseif *condition 2*\n",
    "    *option 2*\n",
    "else\n",
    "    *option 3*\n",
    "end"
   ]
  },
  {
   "cell_type": "markdown",
   "metadata": {},
   "source": [
    "allows us to conditionally evaluate one of our options.\n",
    "<br><br>\n",
    "For example, we might want to implement the FizzBuzz test: given a number, N, print \"Fizz\" if N is divisible by 3, \"Buzz\" if N is divisible by 5, and \"FizzBuzz\" if N is divisible by 3 and 5. Otherwise just print the number itself! Enter your choice for `N` here:\n",
    "\n",
    "#### with ternary operators\n",
    "\n",
    "For this last block, we could instead use the ternary operator with the syntax"
   ]
  },
  {
   "cell_type": "code",
   "execution_count": null,
   "metadata": {},
   "outputs": [],
   "source": [
    "a ? b : c"
   ]
  },
  {
   "cell_type": "markdown",
   "metadata": {},
   "source": [
    "which equates to "
   ]
  },
  {
   "cell_type": "code",
   "execution_count": null,
   "metadata": {},
   "outputs": [],
   "source": [
    "if a\n",
    "    b\n",
    "else\n",
    "    c\n",
    "end"
   ]
  },
  {
   "cell_type": "markdown",
   "metadata": {
    "lines_to_next_cell": 0
   },
   "source": [
    "Now let's say we want to return the larger of two numbers. Give `x` and `y` values here:\n",
    "\n",
    "Using the `if` and `else` keywords, we might write:\n",
    "\n",
    "and as a ternary operator, the conditional looks like this:\n",
    "\n",
    "#### with short-circuit evaluation\n",
    "\n",
    "We've already seen expressions with the syntax"
   ]
  },
  {
   "cell_type": "code",
   "execution_count": null,
   "metadata": {
    "lines_to_next_cell": 0
   },
   "outputs": [],
   "source": [
    "a && b"
   ]
  },
  {
   "cell_type": "markdown",
   "metadata": {},
   "source": [
    "to return true if both `a` and `b` are true. Of course, if `a` is false, Julia doesn't even need to know the value of `b` in order to determine that the overall result will be false. So Julia doesn't even need to check what `b` is; it can just \"short-circuit\" and immediately return `false`.  The second argument `b` might be a more complicated expression like a function call with a side-effect, in which case it won't even be called:\n",
    "\n",
    "On the other hand, if `a` is true, Julia knows it can just return the value of `b` as the overall expression. This means that `b` doesn't necessarily need evaluate to `true` or `false`!  `b` could even be an error:\n",
    "\n",
    "Similarly, check out the `||` operator, which also uses short-circuit evaluation to perform the \"or\" operation.\n",
    "\n",
    "and\n",
    "\n",
    "### Exercises\n",
    "\n",
    "#### 5.1 \n",
    "Write a conditional statement that prints a number if the number is even and the string \"odd\" if the number is odd.\n",
    "\n",
    "#### 5.2 \n",
    "Rewrite the code from 5.1 using a ternary operator."
   ]
  }
 ],
 "metadata": {
  "jupytext": {
   "main_language": "julia",
   "text_representation": {
    "extension": ".md",
    "format_name": "markdown"
   }
  }
 },
 "nbformat": 4,
 "nbformat_minor": 2
}
